{
 "cells": [
  {
   "cell_type": "code",
   "execution_count": 2,
   "id": "bb08c31c",
   "metadata": {},
   "outputs": [],
   "source": [
    "import pandas as pd\n",
    "import numpy as np\n",
    "\n",
    "import os\n",
    "import re\n",
    "\n",
    "from difflib import SequenceMatcher"
   ]
  },
  {
   "cell_type": "code",
   "execution_count": 64,
   "id": "6cdbe7e0",
   "metadata": {},
   "outputs": [],
   "source": [
    "src_dir = 'txt'  # open exported files\n",
    "bname = 'safe4'\n",
    "with open(os.path.join(src_dir, bname + '.txt')) as fp:\n",
    "    txt = fp.read()\n",
    "rows = txt.split(';')"
   ]
  },
  {
   "cell_type": "code",
   "execution_count": 65,
   "id": "b0677448",
   "metadata": {},
   "outputs": [
    {
     "data": {
      "text/plain": [
       "46"
      ]
     },
     "execution_count": 65,
     "metadata": {},
     "output_type": "execute_result"
    }
   ],
   "source": [
    "len(rows)  # ensure you have the number of questions"
   ]
  },
  {
   "cell_type": "code",
   "execution_count": 66,
   "id": "8563e428",
   "metadata": {},
   "outputs": [],
   "source": [
    "questions, options, answers = [],[],[]\n",
    "qoptions = []"
   ]
  },
  {
   "cell_type": "code",
   "execution_count": 67,
   "id": "4c4c6c57",
   "metadata": {},
   "outputs": [
    {
     "name": "stdout",
     "output_type": "stream",
     "text": [
      "45 not enough values to unpack (expected 2, got 1)\n",
      "\n"
     ]
    }
   ],
   "source": [
    "#  start splitting with set separators\n",
    "for i, r in enumerate(rows):\n",
    "    try:\n",
    "        q, a = r.split('|')\n",
    "        qoptions.append(q)\n",
    "        answers.append(a)\n",
    "    except Exception as e:\n",
    "        print(i, e)\n",
    "        print(r)"
   ]
  },
  {
   "cell_type": "code",
   "execution_count": 68,
   "id": "2e50b29f",
   "metadata": {},
   "outputs": [],
   "source": [
    "for i, qo in enumerate(qoptions):\n",
    "    try:\n",
    "        q, o = re.split('[\\?]+', qo)\n",
    "        questions.append(q)\n",
    "        options.append(o)\n",
    "    except Exception as e:\n",
    "        print(\"Could not split question, options from: \", i, e)  # option contains \\?+ pattern\n",
    "        print(qo)\n",
    "        questions.append(qo)\n",
    "        options.append(\"\")"
   ]
  },
  {
   "cell_type": "code",
   "execution_count": 69,
   "id": "34bd15cf",
   "metadata": {},
   "outputs": [
    {
     "name": "stdout",
     "output_type": "stream",
     "text": [
      "45 45 45\n"
     ]
    }
   ],
   "source": [
    "print(len(questions), len(answers), len(options))\n",
    "assert len(questions) == len(answers) and len(answers) == len(options)"
   ]
  },
  {
   "cell_type": "code",
   "execution_count": 70,
   "id": "0ef71042",
   "metadata": {},
   "outputs": [],
   "source": [
    "def print_answers(user_question, questions, answers, top=10):\n",
    "    comparison_scores = [-SequenceMatcher(None, user_question, q).ratio() for q in questions]    \n",
    "    idx_sort = np.argsort(comparison_scores)\n",
    "    for i in idx_sort[:top]:\n",
    "        print(i, questions[i], '\\nR = ', answers[i], '\\n')"
   ]
  },
  {
   "cell_type": "code",
   "execution_count": 71,
   "id": "2243d98d",
   "metadata": {},
   "outputs": [
    {
     "name": "stdout",
     "output_type": "stream",
     "text": [
      "22 what is an example of SAfe scrum master servant leader behavior \n",
      "R =  -uses persuasion instead of authority \n",
      "\n",
      "6 the scrum master role includes traditional scrum team leadership and responsibilities to which other group \n",
      "R =  -to the agile teams at the program level \n",
      "\n",
      "16 what is the key scrum master responsibility when estimating stories \n",
      "R =  -ensure everyone on the team participates \n",
      "\n",
      "23 the scrum master is what above all else \n",
      "R =  -a servant leader \n",
      "\n",
      "29 how can a scrum master support a problem solving workshop \n",
      "R =  -by providing facilitation to breakout groups focused on specific problems \n",
      "\n"
     ]
    }
   ],
   "source": [
    "user_question = 'A SAFe scrum master demonstrates which servant leadership behaviour'\n",
    "print_answers(user_question, questions, answers, top=5)"
   ]
  },
  {
   "cell_type": "code",
   "execution_count": 72,
   "id": "0a2591d5",
   "metadata": {},
   "outputs": [],
   "source": [
    "df = pd.DataFrame({'questions': questions, 'options': options, 'anwsers': answers})\n",
    "df.to_csv(os.path.join('csv', bname + '.csv'), index=False)  # save info "
   ]
  },
  {
   "cell_type": "markdown",
   "id": "913e8d3d",
   "metadata": {},
   "source": [
    "# Merging csv"
   ]
  },
  {
   "cell_type": "code",
   "execution_count": 83,
   "id": "27c7542d",
   "metadata": {},
   "outputs": [],
   "source": [
    "fnames = os.listdir('csv')\n",
    "df = pd.read_csv(os.path.join('csv', fnames[0]))\n",
    "for fname in fnames[1:]:\n",
    "    df_it = pd.read_csv(os.path.join('csv', fname))\n",
    "    df = df.append(df_it)"
   ]
  },
  {
   "cell_type": "code",
   "execution_count": 84,
   "id": "e0c5006d",
   "metadata": {},
   "outputs": [
    {
     "data": {
      "text/plain": [
       "Index(['questions', 'options', 'anwsers'], dtype='object')"
      ]
     },
     "execution_count": 84,
     "metadata": {},
     "output_type": "execute_result"
    }
   ],
   "source": [
    "df.columns"
   ]
  },
  {
   "cell_type": "code",
   "execution_count": 85,
   "id": "e439c527",
   "metadata": {},
   "outputs": [],
   "source": [
    "df['questions'] = df['questions'].apply(lambda c: c.lower().strip())  # to lowercase and trim questions"
   ]
  },
  {
   "cell_type": "code",
   "execution_count": 86,
   "id": "a6024033",
   "metadata": {},
   "outputs": [
    {
     "name": "stdout",
     "output_type": "stream",
     "text": [
      "(129, 3)\n",
      "(119, 3)\n"
     ]
    }
   ],
   "source": [
    "print(df.shape)\n",
    "df.drop_duplicates(['questions'], inplace=True)\n",
    "print(df.shape)"
   ]
  },
  {
   "cell_type": "code",
   "execution_count": 77,
   "id": "4a3624c8",
   "metadata": {},
   "outputs": [],
   "source": [
    "df.to_csv('merged.csv', index=False)"
   ]
  },
  {
   "cell_type": "code",
   "execution_count": 78,
   "id": "f141e41b",
   "metadata": {},
   "outputs": [],
   "source": [
    "questions = df['questions'].values\n",
    "options = df['options'].values\n",
    "answers = df['anwsers'].values"
   ]
  },
  {
   "cell_type": "code",
   "execution_count": 79,
   "id": "b833e7a4",
   "metadata": {},
   "outputs": [
    {
     "data": {
      "text/plain": [
       "'a scrum master notices that the team members are not open to showcasing their work. which core value would the scrum master encourage the team to adopt'"
      ]
     },
     "execution_count": 79,
     "metadata": {},
     "output_type": "execute_result"
    }
   ],
   "source": [
    "questions[0]"
   ]
  },
  {
   "cell_type": "code",
   "execution_count": 87,
   "id": "c7b3de48",
   "metadata": {},
   "outputs": [
    {
     "name": "stdout",
     "output_type": "stream",
     "text": [
      "61 how does the scrum master provide the most value to the team \n",
      "R =  By removing impediments for the team \n",
      "\n",
      "16 what does an effective scrum master help the team with \n",
      "R =  Relentless improvement \n",
      "\n",
      "108 what is the scrum master's role in the i&a \n",
      "R =  To facilitate one of the teams in the problem solving workshop \n",
      "\n",
      "39 why does a scrum master use the powerful questioning technique \n",
      "R =  To guide people to a solution \n",
      "\n",
      "55 an effective scrum master helps the team with what \n",
      "R =  Relentless improvement \n",
      "\n",
      "63 what is the scrum master's role in team breakout #1 \n",
      "R =  Facilitate the coordination with other teams for dependencies \n",
      "\n",
      "127 what is the key scrum master responsibility when estimating stories \n",
      "R =  -ensure everyone on the team participates \n",
      "\n",
      "29 what is the primary purpose of the ip iteration \n",
      "R =  Provide opportunity to identify more effective ways of working \n",
      "\n",
      "43 the safe scrum master role includes responsibilities to which other group \n",
      "R =  The other Agile Teams on the Agile release train (ART) \n",
      "\n",
      "12 the scrum master is what above all else \n",
      "R =  A servant leader \n",
      "\n"
     ]
    }
   ],
   "source": [
    "u_question = 'How does the Scrum Master provide the most value to the team'\n",
    "print_answers(u_question, questions, answers)"
   ]
  },
  {
   "cell_type": "code",
   "execution_count": null,
   "id": "53b07256",
   "metadata": {},
   "outputs": [],
   "source": []
  }
 ],
 "metadata": {
  "kernelspec": {
   "display_name": "Python 3",
   "language": "python",
   "name": "python3"
  },
  "language_info": {
   "codemirror_mode": {
    "name": "ipython",
    "version": 3
   },
   "file_extension": ".py",
   "mimetype": "text/x-python",
   "name": "python",
   "nbconvert_exporter": "python",
   "pygments_lexer": "ipython3",
   "version": "3.8.8"
  }
 },
 "nbformat": 4,
 "nbformat_minor": 5
}
