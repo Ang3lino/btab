{
 "cells": [
  {
   "cell_type": "code",
   "execution_count": 87,
   "id": "bb08c31c",
   "metadata": {},
   "outputs": [],
   "source": [
    "import pandas as pd\n",
    "import numpy as np\n",
    "import os\n",
    "import re\n",
    "\n",
    "from difflib import SequenceMatcher\n"
   ]
  },
  {
   "cell_type": "code",
   "execution_count": 176,
   "id": "6cdbe7e0",
   "metadata": {},
   "outputs": [],
   "source": [
    "src_dir = 'txt'\n",
    "bname = 'safe3'\n",
    "with open(os.path.join(src_dir, bname + '.txt')) as fp:\n",
    "    txt = fp.read()"
   ]
  },
  {
   "cell_type": "code",
   "execution_count": 177,
   "id": "e99360dd",
   "metadata": {},
   "outputs": [],
   "source": [
    "rows = txt.split(';')"
   ]
  },
  {
   "cell_type": "code",
   "execution_count": 178,
   "id": "35ae042d",
   "metadata": {},
   "outputs": [
    {
     "data": {
      "text/plain": [
       "['What are 2 strategies for effective distributed PI planning events? \\n\\nUse one facilitator\\n\\nHave separate PI planning events for each time zones\\n\\nUse working agreements\\n\\nSend one distributed team representative to PI planning \\n\\nExtend PI planning to 2.5 or 3 days.|Use working agreements\\n\\nExtend PI planning to 2.5 or 3 days.',\n",
       " \"A team is running out of time to draft their PI objectives for the draft plan review because they are creating very detailed plans. What is the best action for the scrum master to take?\\n\\nSupport the team and ask the business owner to wait for the team's PI objectives.\\n\\nEscalate to the release train engineer\\n\\nWhile the team is preparing plans, encourage the product owner to write the objectives\\n\\nCoach the team to focus on the agenda and time boxes and not detailed Iteration planning.|Coach the team to focus on the agenda and time boxes and not detailed Iteration planning.\",\n",
       " 'What are two common anti-pattern during program increment(PI) planning? (choose 2)\\n\\nAlignment becomes the goal rather than a details plan\\n\\nThe team determines their own capacity and load\\n\\nThe innovation and planning (IP iteration) is left empty of planned work\\n\\nPressure is put on teams to overcommit \\n\\nA detailed plan becomes the goal rather than alignment|Pressure is put on teams to overcommit \\n\\nA detailed plan becomes the goal rather than alignment',\n",
       " 'Which part of a feature describes the proposed measurable value to the end-user or business?\\n\\nDescription\\nBenefit hypothesis\\nAcceptance criteria\\nPrioritization|Benefit hypothesis',\n",
       " 'Story point estimation requires the evaluation of which three criteria? (Choose 3)\\n\\nPeople: How many team members does it need?\\n\\nVolume: How much is there?\\n\\nFunctionality: How many functions does it cover?\\n\\nKnowledge: What do we know?\\n\\nComplexity: How difficult is it?\\n\\nTime: How fast can it get done?|Volume: How much is there?\\n\\nKnowledge: What do we know?\\n\\nComplexity: How difficult is it?',\n",
       " 'Who is responsible for integrating all team PI objectives into program PI objectives?\\n\\nRelease train engineer\\nScrum masters\\nBusiness owners\\nProduct manager|Release train engineer',\n",
       " 'What is an output of the PI planning process?\\n\\nRefined user stories\\nActual business value\\nPI objective\\nTeam iteration goal|PI objective',\n",
       " 'When ROAMing, which step allows a team member to take responsibility for the risks?\\nMitigated\\nAccepted\\nResolved\\nOwned|Owned',\n",
       " 'Which pillar of scrum is also one of the SAFe core values?\\n\\nTransparency\\nAlignment\\nInspection\\nAdaption|Transparency',\n",
       " 'An agile team that routinely excluded the product owner from Iteration retrospectives is ignoring which Scrum values?\\n\\nFocus\\nCommitment\\nCourage\\nOpenness|Openness',\n",
       " 'What is an advantage of using an Agile approach?\\n\\nPhase gates help validate agreement on key deliverables\\n\\nAll key requirements are known at the start\\n\\nValue is delivered early and continuously\\n\\nTesting is defined until the end of the development process|Value is delivered early and continuously',\n",
       " 'Which event ensures the agile release train (ART) reviews the current state of the solution and provides an opportunity to identify improvements for the next PI? \\n\\nSystem demo\\nI&A\\nART sync\\nIteration review|I&A',\n",
       " 'What are two agile practices? (Choose 2)\\n\\nBatch test\\nUse phase gates\\nUse information radiators\\nDesign sequentially\\nDemo frequently|Use information radiators\\nDemo frequently',\n",
       " 'When the scrum master recommends the team have coding an d testing elements in the same story, which SAFe core values are they demonstrating? \\n\\nProgram execution\\nBuilt-in quality\\nTransparency \\nAlignment|Built-in quality',\n",
       " 'When a scrum master asks questions that encourage the team to look at decisions from a new perspective, which servant leader trait is being demonstrated?\\n\\nDrives the personal development of each individual\\n\\nSupports decentralized decision making\\n\\nManages cadence and syncronization\\n\\nPersuades rather than uses authority|Persuades rather than uses authority',\n",
       " 'What is a characteristic of an effective scrum master?\\n\\nGives open, honest opinions\\nUnderstands customer needs\\nIs a technical expert\\nRemoves all conflicts|Gives open, honest opinions',\n",
       " 'What is a common characteristic of high-performing teams?\\n\\nDelegating accountability and responsibility\\nClear goals and purpose\\nAbsence of conflict\\nUniformity of knowledge and skills|Clear goals and purpose',\n",
       " 'How does SAFe handle the \"Fear of conflict\" team dysfunction?\\n\\nAvoids discussions of disagreements\\n\\nReviews results at the end of every iteration\\n\\nUses scrum to create a safe environment for conflict\\n\\nHas team engages in retrospectives|Uses scrum to create a safe environment for conflict',\n",
       " 'What could the scrum master do if the team is consistent going over the timebox during team events?\\n\\nIncrease the frequency of events\\n\\nMaintain communication outside the team events\\n\\nSchedule longer events\\n\\nBring the issue to the release train engineer during the scrum of scrum event|Bring the issue to the release train engineer during the scrum of scrum event',\n",
       " 'Scrum master are effective by using scrum methods, supporting SAFe principles and practices, and what else?\\n\\nManaging architectural runway\\nWriting stories and enablers\\nSupporting delivery using agile practices\\nServing as a customer proxy|Supporting delivery using agile practices',\n",
       " 'A SAFe scrum master demonstrates which servant leadership behaviour?\\n\\nEncourages everyone to express their point of view\\n\\nRefrains from celebrating success or feeling bad about iteration failures\\n\\nProvides recommendations and makes decisions for the team\\n\\nDetermines what the team needs to improve or change|Encourages everyone to express their point of view',\n",
       " 'Which event is a scrum master responsible for facilitating?\\n\\nIteration planning\\nPI planning\\nScrum of scrums\\nSystem demo|Iteration planning',\n",
       " 'What is the main benefit of the DSU for team members?\\n\\nTo align on progress toward iteration goals\\n\\nTo communicate status to the scrum master\\n\\nTo review iteration deliverables and get feedback\\n\\nTo provide updates on story progress|To align on progress toward iteration goals',\n",
       " 'How can a scrum master address a fear of conflict within a team?\\n\\nInclude stakeholders in the review of results in order to achieve accountability\\n\\nHelp the team review results using empirical data at the end of each iteration \\n\\nTell the team to make a shared commitment to each other\\n\\nCreate a safe environment that encourages the discussion of disagreement|Create a safe environment that encourages the discussion of disagreement',\n",
       " \"What falls outside the Scrum master's responsibility? (Choose 2)\\n\\nAssigning stories to team members\\n\\nFacilitating backlog refinement\\n\\nCoaching the team\\n\\nFacilitating the team's Innovation and planning event\\n\\nEstimating Stories for the team|Assigning stories to team members\\n\\nEstimating Stories for the team\",\n",
       " 'Becoming a coach requires a shift from old behaviors to new ones. What are three examples of new coaching behaviors? (Choose 3)\\n\\nFocus on business value delivery\\nDrive towards specific outcomes\\nAsk the team for the answer\\nFocus on deadlines\\nFix problems for the team\\nFacilitating team problem-solving|Focus on business value delivery\\n\\nAsk the team for the answer\\n\\nFacilitating team problem-solving',\n",
       " 'A scrum master raises a cross-team issue at the scrum of scrums(SoS) and there is not enough time to talk through it in detail. What action should the scrum master take?\\n\\nContinue the discussion as soon as possible after the SoS is over\\n\\nRaise the issue with the solution train engineer\\n\\nWait for the net SoS event and re-raise the issue\\n\\nAsk their Product manager to discuss it at the PO sync|Continue the discussion as soon as possible after the SoS is over',\n",
       " 'The SAFe scrum master role includes responsibilities to which other group?\\n\\nThe other Agile teams on the Agile release train (ART)\\nSolution Management\\nBusiness owners\\nSolution train engineers|The other Agile teams on the Agile release train (ART)',\n",
       " \"What is an example of a powerful question that a scrum master might ask while coaching an Agile team?\\n\\nWho has the best information?\\nDo you agree?\\nWhat is it we're not seeing?\\nWhy aren't you doing what I'm telling you to do?|What is it we're not seeing?\",\n",
       " 'The scrum master notices the team frequently gets off-topic during team events. What best practice can help the scrum master improve team performance?\\n\\nStart the event by communicating a clear purpose and outcomes\\n\\nEnd the event as soon as this team behaviour starts happening\\n\\nProactive project management skills drive to their desired outputs\\n\\nDesignate someone to be responsible for maintaining the action items.|Start the event by communicating a clear purpose and outcomes',\n",
       " 'What is one responsibility of a SAFe scrum master?\\n\\nTo foster normalized estimating within the team \\n\\nTo participate in PO sync meetings\\n\\nTo facilitate PI planning\\n\\nTo maintain the team backlog|To foster normalized estimating within the team',\n",
       " 'What are the three agenda items in the I&A event?\\n\\nPI system demo, qualitative measurement, and PI planning readiness\\n\\nSolution demo, quantitative measurement, and PI planning readiness\\n\\nPI system demo, quantitative measurement, and problem-solving workshop\\n\\nSolution demo, qualitative measurement, and problem-solving workshop|PI system demo, quantitative measurement, and problem-solving workshop',\n",
       " \"What is the scrum master's role in the I&A?\\n\\nTo ensure all teams members are in attendance\\n\\nTo add actionable items to the program backlog\\n\\nTo facilitate one of the teams in the problem solving workshop\\n\\nTo demonstrate improvement items during the PI system demo|To facilitate one of the teams in the problem solving workshop\",\n",
       " 'What is an estimating guard-band for cadence-based delivery?\\n\\nPI planning \\nIteration goals\\nIP iteration \\nPI Objectives|IP iteration',\n",
       " \"What is one of the Scrum master's responsibilities during the innovation and planning (IP) iteration?\\n\\nUpdate the program increment (PI) roadmap\\n\\nFacilitate the team preparation for the program increment (PI) system demo\\n\\nCreate the program predictability measure\\n\\nRemove scope that exceeds capacity|Facilitate the team preparation for the program increment (PI) system demo\",\n",
       " 'What is an anti-pattern of the DSU? \\n\\nScheduling meet-afters\\nFocusing on Iteration goals\\nStopping the meeting due to conflict\\nExcluding the product owner|Stopping the meeting due to conflict',\n",
       " 'During iteration planning, what must be established before reviewing the team backlog and stories?\\n\\nTeam capacity\\nSize estimates\\nStory assignments\\nIteration goals|Team capacity',\n",
       " 'During backlog refinement, the product owner presents each story and then confirms and/or clarifies what?\\n\\nStory test pass/fail behaviour\\nAcceptance criteria\\nbusiness value\\nDetails of the story test strategy|business value',\n",
       " 'What is typically the first item on the iteration review agenda?\\n\\nIdentify risks and impediments\\n\\nDemonstrate work completed and ask for feedback for each story\\n\\nReview business context and Iteration goals\\n\\nDiscuss stories not completed and why|Review business context and Iteration goals',\n",
       " 'What ate three common anti-patterns during iteration planning? (choose 3)\\n\\nImprovement efforts from the retrospective are put into effect\\n\\nTeams gets too deep into technical discussions\\n\\nTime is allocated for technical debt activities\\n\\nTeams make their own commitments\\n\\nCapacity and load are exactly the same\\n\\nTeams under commits due to fear of failure|Teams gets too deep into technical discussions\\n\\nCapacity and load are exactly the same\\n\\nTeams under commits due to fear of failure',\n",
       " 'What are two outputs of iteration planning? (Choose 2)\\n\\nTeam backlog\\nIteration goals\\nProgram backlog\\nPI objectives\\nIteration backlog|Iteration goals\\nIteration backlog',\n",
       " 'Which iteration event provides the team with the primary opportunity for improving outcomes?\\n\\nPlanning\\nDSU\\nRefinement\\nRetrospective|Retrospective',\n",
       " 'What can a scrum master do to foster relentless improvement?\\n\\nFocus on process adjustments\\n\\nSuggest improvement items for the team\\n\\nInvite people outside the team to the iteration retrospective \\n\\nIntroduce the team to problem solving techniques|Introduce the team to problem solving techniques',\n",
       " 'DevOps is part of which SAFe core competency?\\n\\nTeam and technical agility\\nOrganizational agility\\nEnterprise solution delivery\\nAgile product delivery|Enterprise solution delivery',\n",
       " \"What does the letter C represent in SAFe's CALMR approach to DevOps? \\n\\nCollaboration \\nContinuous deployment\\nCulture\\nContinuous delviery|Culture\",\n",
       " '']"
      ]
     },
     "execution_count": 178,
     "metadata": {},
     "output_type": "execute_result"
    }
   ],
   "source": [
    "rows"
   ]
  },
  {
   "cell_type": "code",
   "execution_count": 179,
   "id": "b0677448",
   "metadata": {},
   "outputs": [
    {
     "data": {
      "text/plain": [
       "46"
      ]
     },
     "execution_count": 179,
     "metadata": {},
     "output_type": "execute_result"
    }
   ],
   "source": [
    "len(rows)"
   ]
  },
  {
   "cell_type": "code",
   "execution_count": 186,
   "id": "8563e428",
   "metadata": {},
   "outputs": [],
   "source": [
    "questions, options, answers = [],[],[]\n",
    "qoptions = []"
   ]
  },
  {
   "cell_type": "code",
   "execution_count": 187,
   "id": "4c4c6c57",
   "metadata": {},
   "outputs": [
    {
     "name": "stdout",
     "output_type": "stream",
     "text": [
      "45 not enough values to unpack (expected 2, got 1)\n",
      "\n"
     ]
    }
   ],
   "source": [
    "for i, r in enumerate(rows):\n",
    "    try:\n",
    "        q, a = r.split('|')\n",
    "        qoptions.append(q)\n",
    "        answers.append(a)\n",
    "    except Exception as e:\n",
    "        print(i, e)\n",
    "        print(r)"
   ]
  },
  {
   "cell_type": "code",
   "execution_count": 188,
   "id": "2e50b29f",
   "metadata": {},
   "outputs": [
    {
     "name": "stdout",
     "output_type": "stream",
     "text": [
      "Could not split question, options from:  4 too many values to unpack (expected 2)\n",
      "Story point estimation requires the evaluation of which three criteria? (Choose 3)\n",
      "\n",
      "People: How many team members does it need?\n",
      "\n",
      "Volume: How much is there?\n",
      "\n",
      "Functionality: How many functions does it cover?\n",
      "\n",
      "Knowledge: What do we know?\n",
      "\n",
      "Complexity: How difficult is it?\n",
      "\n",
      "Time: How fast can it get done?\n",
      "Could not split question, options from:  28 too many values to unpack (expected 2)\n",
      "What is an example of a powerful question that a scrum master might ask while coaching an Agile team?\n",
      "\n",
      "Who has the best information?\n",
      "Do you agree?\n",
      "What is it we're not seeing?\n",
      "Why aren't you doing what I'm telling you to do?\n"
     ]
    }
   ],
   "source": [
    "for i, qo in enumerate(qoptions):\n",
    "    try:\n",
    "        q, o = re.split('[\\?]+', qo)\n",
    "        questions.append(q)\n",
    "        options.append(o)\n",
    "    except Exception as e:\n",
    "        print(\"Could not split question, options from: \", i, e)\n",
    "        print(qo)\n",
    "        questions.append(qo)\n",
    "        options.append(\"\")"
   ]
  },
  {
   "cell_type": "code",
   "execution_count": 214,
   "id": "34bd15cf",
   "metadata": {},
   "outputs": [
    {
     "name": "stdout",
     "output_type": "stream",
     "text": [
      "45 45 45\n"
     ]
    }
   ],
   "source": [
    "print(len(questions), len(answers), len(options))"
   ]
  },
  {
   "cell_type": "code",
   "execution_count": 210,
   "id": "0ef71042",
   "metadata": {},
   "outputs": [],
   "source": [
    "def print_answers(user_question, questions, answers, top=10):\n",
    "    comparison_scores = [-SequenceMatcher(None, user_question, q).ratio() for q in questions]    \n",
    "    idx_sort = np.argsort(comparison_scores)\n",
    "    for i in idx_sort[:top]:\n",
    "        print(i, questions[i], '\\nR = ', answers[i], '\\n')"
   ]
  },
  {
   "cell_type": "code",
   "execution_count": 209,
   "id": "2243d98d",
   "metadata": {},
   "outputs": [
    {
     "name": "stdout",
     "output_type": "stream",
     "text": [
      "20 A SAFe scrum master demonstrates which servant leadership behaviour \n",
      "R= Encourages everyone to express their point of view \n",
      "\n",
      "27 The SAFe scrum master role includes responsibilities to which other group \n",
      "R= The other Agile teams on the Agile release train (ART) \n",
      "\n",
      "14 When a scrum master asks questions that encourage the team to look at decisions from a new perspective, which servant leader trait is being demonstrated \n",
      "R= Persuades rather than uses authority \n",
      "\n",
      "32 What is the scrum master's role in the I&A \n",
      "R= To facilitate one of the teams in the problem solving workshop \n",
      "\n",
      "21 Which event is a scrum master responsible for facilitating \n",
      "R= Iteration planning \n",
      "\n",
      "18 What could the scrum master do if the team is consistent going over the timebox during team events \n",
      "R= Bring the issue to the release train engineer during the scrum of scrum event \n",
      "\n",
      "23 How can a scrum master address a fear of conflict within a team \n",
      "R= Create a safe environment that encourages the discussion of disagreement \n",
      "\n",
      "29 The scrum master notices the team frequently gets off-topic during team events. What best practice can help the scrum master improve team performance \n",
      "R= Start the event by communicating a clear purpose and outcomes \n",
      "\n",
      "42 What can a scrum master do to foster relentless improvement \n",
      "R= Introduce the team to problem solving techniques \n",
      "\n",
      "9 An agile team that routinely excluded the product owner from Iteration retrospectives is ignoring which Scrum values \n",
      "R= Openness \n",
      "\n"
     ]
    }
   ],
   "source": [
    "user_question = 'A SAFe scrum master demonstrates which servant leadership behaviour?'\n",
    "print_answers(user_question, questions, answers)"
   ]
  },
  {
   "cell_type": "code",
   "execution_count": 211,
   "id": "0a2591d5",
   "metadata": {},
   "outputs": [],
   "source": [
    "df = pd.DataFrame({'questions': questions, 'options': options, 'anwsers': answers})"
   ]
  },
  {
   "cell_type": "code",
   "execution_count": 212,
   "id": "9f06f052",
   "metadata": {},
   "outputs": [],
   "source": [
    "df.to_csv(os.path.join('csv', bname + '.csv'), index=False)"
   ]
  },
  {
   "cell_type": "code",
   "execution_count": 213,
   "id": "6b57084b",
   "metadata": {},
   "outputs": [
    {
     "data": {
      "text/plain": [
       "['.ipynb_checkpoints',\n",
       " 'safe1.csv',\n",
       " 'safe2.csv',\n",
       " 'safe3.csv',\n",
       " 'txt',\n",
       " 'Untitled.ipynb']"
      ]
     },
     "execution_count": 213,
     "metadata": {},
     "output_type": "execute_result"
    }
   ],
   "source": [
    "os.listdir()"
   ]
  },
  {
   "cell_type": "code",
   "execution_count": null,
   "id": "f938a24d",
   "metadata": {},
   "outputs": [],
   "source": []
  }
 ],
 "metadata": {
  "kernelspec": {
   "display_name": "Python 3",
   "language": "python",
   "name": "python3"
  },
  "language_info": {
   "codemirror_mode": {
    "name": "ipython",
    "version": 3
   },
   "file_extension": ".py",
   "mimetype": "text/x-python",
   "name": "python",
   "nbconvert_exporter": "python",
   "pygments_lexer": "ipython3",
   "version": "3.8.8"
  }
 },
 "nbformat": 4,
 "nbformat_minor": 5
}
