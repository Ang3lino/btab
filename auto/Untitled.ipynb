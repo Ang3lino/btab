{
 "cells": [
  {
   "cell_type": "code",
   "execution_count": 18,
   "id": "fa3a02c8",
   "metadata": {},
   "outputs": [],
   "source": [
    "# !  pip install --upgrade google-api-python-client google-auth-httplib2 google-auth-oauthlib\n",
    "#! pip install selenium\n",
    "#! pip install webdriver-manager"
   ]
  },
  {
   "cell_type": "code",
   "execution_count": 1,
   "id": "6246da62",
   "metadata": {},
   "outputs": [],
   "source": [
    "import pandas as pd"
   ]
  },
  {
   "cell_type": "code",
   "execution_count": 29,
   "id": "cffa34f9",
   "metadata": {},
   "outputs": [],
   "source": [
    "xls = pd.ExcelFile('t_cf_dealer_ship.xlsx')\n",
    "df = pd.read_excel(xls, 'DC-DD-Field', header=2)\n",
    "df = df[1:]"
   ]
  },
  {
   "cell_type": "code",
   "execution_count": 30,
   "id": "73c94830",
   "metadata": {},
   "outputs": [],
   "source": [
    "name_fields = df.loc[:, ['PHYSICAL NAME FIELD']].values.flatten()"
   ]
  },
  {
   "cell_type": "code",
   "execution_count": 33,
   "id": "3daac03b",
   "metadata": {},
   "outputs": [],
   "source": [
    "# name_fields.tolist()"
   ]
  },
  {
   "cell_type": "code",
   "execution_count": 5,
   "id": "987599a9",
   "metadata": {},
   "outputs": [],
   "source": [
    "import random\n",
    "import sys\n",
    "import time\n",
    "import os\n",
    "import csv\n",
    "import glob\n",
    "import pandas as pd\n",
    "\n",
    "\n",
    "from selenium import webdriver\n",
    "from selenium.webdriver.common.keys import Keys\n",
    "from selenium.common.exceptions import NoSuchElementException\n",
    "from tqdm import tqdm\n",
    "from getpass import getpass\n",
    "from datetime import datetime "
   ]
  },
  {
   "cell_type": "code",
   "execution_count": 6,
   "id": "6737db38",
   "metadata": {},
   "outputs": [
    {
     "name": "stderr",
     "output_type": "stream",
     "text": [
      "\n",
      "\n",
      "====== WebDriver manager ======\n",
      "Current google-chrome version is 91.0.4472\n",
      "Get LATEST driver version for 91.0.4472\n",
      "There is no [win32] chromedriver for browser 91.0.4472 in cache\n",
      "Get LATEST driver version for 91.0.4472\n",
      "Trying to download new driver from https://chromedriver.storage.googleapis.com/91.0.4472.101/chromedriver_win32.zip\n",
      "Driver has been saved in cache [C:\\Users\\XMX2212_1\\.wdm\\drivers\\chromedriver\\win32\\91.0.4472.101]\n"
     ]
    }
   ],
   "source": [
    "from selenium import webdriver\n",
    "from webdriver_manager.chrome import ChromeDriverManager\n",
    "\n",
    "\n",
    "# download the latest chrome driver\n",
    "driver = webdriver.Chrome(ChromeDriverManager().install())"
   ]
  },
  {
   "cell_type": "code",
   "execution_count": 8,
   "id": "dd90c50b",
   "metadata": {},
   "outputs": [],
   "source": [
    "driver.get('http://datadictionary.bbva.com/welcome/')"
   ]
  },
  {
   "cell_type": "code",
   "execution_count": 34,
   "id": "639a4d46",
   "metadata": {},
   "outputs": [],
   "source": [
    "USER = 'xmx2212'\n",
    "PASSWORD = getpass()"
   ]
  },
  {
   "cell_type": "code",
   "execution_count": 13,
   "id": "9e2f8c75",
   "metadata": {},
   "outputs": [],
   "source": [
    "driver.get('http://datadictionary.bbva.com/welcome/')\n",
    "time.sleep(2)\n",
    "\n",
    "user_name_elem = driver.find_element_by_id('username')\n",
    "user_name_elem.clear()\n",
    "user_name_elem.send_keys(USER)\n"
   ]
  },
  {
   "cell_type": "code",
   "execution_count": 15,
   "id": "8965e383",
   "metadata": {},
   "outputs": [],
   "source": [
    "password_elem = driver.find_element_by_id(\"password\")\n",
    "password_elem.clear()\n",
    "password_elem.send_keys(PASSWORD)\n",
    "password_elem.send_keys(Keys.RETURN)\n",
    "time.sleep(2)"
   ]
  },
  {
   "cell_type": "code",
   "execution_count": 19,
   "id": "37428d48",
   "metadata": {},
   "outputs": [],
   "source": [
    "sms_radio = driver.find_element_by_id('manyPersonalPhones')\n",
    "sms_radio.click()\n",
    "\n",
    "send_btn = driver.find_element_by_xpath('//*[@id=\"form\"]/div/div[4]/button')\n",
    "send_btn.click()"
   ]
  },
  {
   "cell_type": "code",
   "execution_count": 20,
   "id": "8f1654c6",
   "metadata": {},
   "outputs": [],
   "source": [
    "driver.get('http://datadictionary.bbva.com/data_dictionary_next_gen/naming/')"
   ]
  },
  {
   "cell_type": "code",
   "execution_count": 53,
   "id": "1ff942a7",
   "metadata": {},
   "outputs": [],
   "source": [
    "name_field = name_fields[0]\n",
    "logs = ''"
   ]
  },
  {
   "cell_type": "code",
   "execution_count": 40,
   "id": "1bcada97",
   "metadata": {},
   "outputs": [],
   "source": [
    "search_text = driver.find_element_by_id('search-text')\n",
    "search_text.clear()\n",
    "search_text.send_keys(name_field)\n",
    "search_text.send_keys(Keys.RETURN)"
   ]
  },
  {
   "cell_type": "code",
   "execution_count": 42,
   "id": "0e6d4607",
   "metadata": {},
   "outputs": [],
   "source": [
    "logical_name = driver.find_element_by_xpath('//*[@id=\"naming-table\"]/tbody/tr/td[2]/a')\n",
    "logical_name.click()"
   ]
  },
  {
   "cell_type": "code",
   "execution_count": null,
   "id": "ef916d0b",
   "metadata": {},
   "outputs": [],
   "source": []
  },
  {
   "cell_type": "code",
   "execution_count": 60,
   "id": "d4740121",
   "metadata": {},
   "outputs": [
    {
     "data": {
      "text/plain": [
       "<selenium.webdriver.remote.webelement.WebElement (session=\"72742837442ed9c5528d18826410bd09\", element=\"08743987-769a-4716-b8b6-fe4deee3299c\")>"
      ]
     },
     "execution_count": 60,
     "metadata": {},
     "output_type": "execute_result"
    }
   ],
   "source": [
    "global_naming_field = driver.find_element_by_id('global_naming_field')\n",
    "global_naming_field"
   ]
  },
  {
   "cell_type": "code",
   "execution_count": 51,
   "id": "9da94160",
   "metadata": {},
   "outputs": [
    {
     "data": {
      "text/plain": [
       "True"
      ]
     },
     "execution_count": 51,
     "metadata": {},
     "output_type": "execute_result"
    }
   ],
   "source": [
    "security_status = driver.find_element_by_id('security_status')\n",
    "'Approved' in security_status.text"
   ]
  },
  {
   "cell_type": "code",
   "execution_count": 55,
   "id": "d0a4276d",
   "metadata": {},
   "outputs": [
    {
     "data": {
      "text/plain": [
       "'vehicle_dealership_id'"
      ]
     },
     "execution_count": 55,
     "metadata": {},
     "output_type": "execute_result"
    }
   ],
   "source": []
  },
  {
   "cell_type": "code",
   "execution_count": 56,
   "id": "9fe5c0c5",
   "metadata": {},
   "outputs": [
    {
     "data": {
      "text/plain": [
       "''"
      ]
     },
     "execution_count": 56,
     "metadata": {},
     "output_type": "execute_result"
    }
   ],
   "source": []
  },
  {
   "cell_type": "code",
   "execution_count": null,
   "id": "f0bbd168",
   "metadata": {},
   "outputs": [],
   "source": []
  }
 ],
 "metadata": {
  "kernelspec": {
   "display_name": "Python 3",
   "language": "python",
   "name": "python3"
  },
  "language_info": {
   "codemirror_mode": {
    "name": "ipython",
    "version": 3
   },
   "file_extension": ".py",
   "mimetype": "text/x-python",
   "name": "python",
   "nbconvert_exporter": "python",
   "pygments_lexer": "ipython3",
   "version": "3.8.8"
  }
 },
 "nbformat": 4,
 "nbformat_minor": 5
}
