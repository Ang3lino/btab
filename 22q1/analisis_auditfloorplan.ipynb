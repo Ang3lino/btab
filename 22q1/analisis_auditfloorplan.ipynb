{
 "cells": [
  {
   "cell_type": "code",
   "execution_count": 1,
   "id": "a780a33c",
   "metadata": {},
   "outputs": [],
   "source": [
    "import pandas as pd\n",
    "import matplotlib.pyplot as plt\n",
    "import numpy as np"
   ]
  },
  {
   "cell_type": "code",
   "execution_count": 24,
   "id": "31d1c61e",
   "metadata": {},
   "outputs": [],
   "source": [
    "import os\n",
    "import glob\n",
    "import json\n",
    "import re"
   ]
  },
  {
   "cell_type": "code",
   "execution_count": 85,
   "id": "aa356e3c",
   "metadata": {},
   "outputs": [],
   "source": [
    "fname = 't_audit_floor_plan_20220207_2.csv'\n",
    "df = pd.read_csv(fname)"
   ]
  },
  {
   "cell_type": "code",
   "execution_count": 86,
   "id": "8a4732e8",
   "metadata": {},
   "outputs": [],
   "source": [
    "cols = df.columns.values.tolist()\n",
    "date_cols = list(filter(lambda s: '_date' in s, cols))"
   ]
  },
  {
   "cell_type": "code",
   "execution_count": 87,
   "id": "4e99da85",
   "metadata": {},
   "outputs": [],
   "source": [
    "schema_input = os.path.join('auditfloorplan', 'raw', 'auditfloorplan.input.schema')\n",
    "with open(schema_input, 'r') as f:\n",
    "    schema_raw = json.load(f)"
   ]
  },
  {
   "cell_type": "code",
   "execution_count": 88,
   "id": "df47ffe1",
   "metadata": {},
   "outputs": [
    {
     "data": {
      "text/plain": [
       "[{'name': 'visit_start_date',\n",
       "  'type': ['string', 'null'],\n",
       "  'logicalFormat': 'DATE',\n",
       "  'deleted': False,\n",
       "  'metadata': False,\n",
       "  'default': '',\n",
       "  'format': 'dd/MM/yyyy',\n",
       "  'locale': 'mx'},\n",
       " {'name': 'visit_end_date',\n",
       "  'type': ['string', 'null'],\n",
       "  'logicalFormat': 'DATE',\n",
       "  'deleted': False,\n",
       "  'metadata': False,\n",
       "  'default': '',\n",
       "  'format': 'dd/MM/yyyy',\n",
       "  'locale': 'mx'},\n",
       " {'name': 'agency_rating_date',\n",
       "  'type': ['string', 'null'],\n",
       "  'logicalFormat': 'DATE',\n",
       "  'deleted': False,\n",
       "  'metadata': False,\n",
       "  'default': '',\n",
       "  'format': 'yyyy-MM-dd',\n",
       "  'locale': 'mx'},\n",
       " {'name': 'cutoff_date',\n",
       "  'type': 'string',\n",
       "  'logicalFormat': 'DATE',\n",
       "  'deleted': False,\n",
       "  'metadata': True,\n",
       "  'default': '',\n",
       "  'format': 'yyyy-MM-dd',\n",
       "  'locale': 'mx'}]"
      ]
     },
     "execution_count": 88,
     "metadata": {},
     "output_type": "execute_result"
    }
   ],
   "source": [
    "cols_date = [x for x in schema_raw['fields'] if x['logicalFormat'] == 'DATE']\n",
    "cols_date"
   ]
  },
  {
   "cell_type": "code",
   "execution_count": 89,
   "id": "44eb79dd",
   "metadata": {},
   "outputs": [
    {
     "name": "stdout",
     "output_type": "stream",
     "text": [
      "5884 39\n",
      "nulos:  0 formato correcto:  5884\n",
      "[]\n",
      "nulos:  0 formato correcto:  5884\n",
      "[]\n"
     ]
    }
   ],
   "source": [
    "cols = ['visit_start_date', 'visit_end_date']\n",
    "re_date = '^\\d{2}/\\d{2}/\\d{4}$'\n",
    "m, n = df.shape\n",
    "print(m, n)\n",
    "\n",
    "for col in cols:\n",
    "    null_idx = df[col].isnull()\n",
    "    idx = df[col].str.match(re_date).astype(bool) & (~null_idx)\n",
    "    print(\"nulos: \", null_idx.sum(), \"formato correcto: \", idx.sum())\n",
    "    print([i for i,x in enumerate(null_idx.tolist()) if x])"
   ]
  },
  {
   "cell_type": "markdown",
   "id": "5a7aaec6",
   "metadata": {},
   "source": [
    "visit_start_date\n",
    "815, 3194, 3704, 3866, 3872 no hay fechas\n",
    "solo 1805 registros tienen el formato dd/MM/YYYY (dos caracteres)\n",
    "\n",
    "visit_end_date\n",
    "solo 405 tienen el formato \n",
    "a partir de la fila 4086 hay timestamp"
   ]
  },
  {
   "cell_type": "code",
   "execution_count": 93,
   "id": "9e0682b1",
   "metadata": {},
   "outputs": [
    {
     "name": "stdout",
     "output_type": "stream",
     "text": [
      "nulos:  0 formato correcto:  5884\n",
      "[]\n"
     ]
    }
   ],
   "source": [
    "col = cols[0]\n",
    "null_idx = df[col].isnull()\n",
    "idx = df[col].str.match(re_date).astype(bool) & (~null_idx)\n",
    "print(\"nulos: \", null_idx.sum(), \"formato correcto: \", idx.sum())\n",
    "print([i for i,x in enumerate(null_idx.tolist()) if x])"
   ]
  },
  {
   "cell_type": "code",
   "execution_count": 94,
   "id": "f14ea5c3",
   "metadata": {},
   "outputs": [
    {
     "name": "stdout",
     "output_type": "stream",
     "text": [
      "nulos:  0 formato correcto:  5884\n",
      "[]\n"
     ]
    }
   ],
   "source": [
    "col = cols[1]\n",
    "null_idx = df[col].isnull()\n",
    "idx = df[col].str.match(re_date).astype(bool) & (~null_idx)\n",
    "print(\"nulos: \", null_idx.sum(), \"formato correcto: \", idx.sum())\n",
    "print([i for i,x in enumerate(null_idx.tolist()) if x])"
   ]
  },
  {
   "cell_type": "code",
   "execution_count": 95,
   "id": "4ac86bb8",
   "metadata": {},
   "outputs": [
    {
     "data": {
      "text/plain": [
       "[]"
      ]
     },
     "execution_count": 95,
     "metadata": {},
     "output_type": "execute_result"
    }
   ],
   "source": [
    "df.loc[~idx, col].values.tolist()"
   ]
  },
  {
   "cell_type": "code",
   "execution_count": null,
   "id": "939836c8",
   "metadata": {},
   "outputs": [],
   "source": []
  }
 ],
 "metadata": {
  "kernelspec": {
   "display_name": "Python 3",
   "language": "python",
   "name": "python3"
  },
  "language_info": {
   "codemirror_mode": {
    "name": "ipython",
    "version": 3
   },
   "file_extension": ".py",
   "mimetype": "text/x-python",
   "name": "python",
   "nbconvert_exporter": "python",
   "pygments_lexer": "ipython3",
   "version": "3.8.8"
  }
 },
 "nbformat": 4,
 "nbformat_minor": 5
}
